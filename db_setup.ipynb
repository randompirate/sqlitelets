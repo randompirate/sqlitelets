{
 "cells": [
  {
   "cell_type": "code",
   "execution_count": 40,
   "metadata": {
    "collapsed": false
   },
   "outputs": [
    {
     "name": "stdout",
     "output_type": "stream",
     "text": [
      "['drop table if exists table2; ', 'create table table2 (column3 varchar); \\n', 'drop table if exists table1; ', 'create table table1 (column1 datetime, column2 integer, column3 varchar); \\n']\n"
     ]
    }
   ],
   "source": [
    "import sqlite3\n",
    "from collections import OrderedDict\n",
    "\n",
    "sqlite_file = 'test_db.sqlite'    # name of the sqlite database file\n",
    "\n",
    "datamodel = {\n",
    "  'table1' : OrderedDict([['column1', 'datetime'], ['column2' , 'integer'], ['column3' , 'varchar']]),\n",
    "  'table2' : OrderedDict([['column3', 'varchar']]),\n",
    "}\n",
    "\n",
    "\n",
    "def model2createstatement(datamodel, drop_if_exists=True):\n",
    "  ret_list = []\n",
    "  for table, table_model in datamodel.items():\n",
    "    if drop_if_exists:\n",
    "      ret_list.append('drop table if exists {}; '.format(table))\n",
    "    ret = 'create table {} ('.format(table)\n",
    "    ret += ', '.join(['{} {}'.format(column, column_type) for column, column_type in table_model.items()])\n",
    "    ret += '); \\n'\n",
    "    ret_list.append(ret)\n",
    "  return ret_list\n",
    "\n",
    "def view_datamodel(c):\n",
    "  c.execute(\"SELECT name, sql FROM sqlite_master WHERE type='table' ORDER BY name;\")\n",
    "  return c.fetchall()\n",
    "\n",
    "    \n",
    "print(model2createstatement(datamodel))\n",
    "\n"
   ]
  },
  {
   "cell_type": "code",
   "execution_count": 41,
   "metadata": {
    "collapsed": false
   },
   "outputs": [
    {
     "name": "stdout",
     "output_type": "stream",
     "text": [
      "[('table1', 'CREATE TABLE table1 (column1 datetime, column2 integer, column3 varchar)'), ('table2', 'CREATE TABLE table2 (column3 varchar)')]\n"
     ]
    }
   ],
   "source": [
    "# Connecting to the database file\n",
    "conn = sqlite3.connect(sqlite_file)\n",
    "c = conn.cursor()\n",
    "\n",
    "# Create tables from data model\n",
    "for stmnt in model2createstatement(datamodel):\n",
    "  c.execute(stmnt)\n",
    "\n",
    "print(view_datamodel(c))\n",
    "\n",
    "# Committing changes and closing the connection to the database file\n",
    "conn.commit()\n",
    "conn.close()\n"
   ]
  },
  {
   "cell_type": "code",
   "execution_count": null,
   "metadata": {
    "collapsed": true
   },
   "outputs": [],
   "source": []
  }
 ],
 "metadata": {
  "kernelspec": {
   "display_name": "Python 3",
   "language": "python",
   "name": "python3"
  },
  "language_info": {
   "codemirror_mode": {
    "name": "ipython",
    "version": 3
   },
   "file_extension": ".py",
   "mimetype": "text/x-python",
   "name": "python",
   "nbconvert_exporter": "python",
   "pygments_lexer": "ipython3",
   "version": "3.5.3"
  }
 },
 "nbformat": 4,
 "nbformat_minor": 0
}
